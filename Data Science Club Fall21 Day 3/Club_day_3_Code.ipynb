{
 "cells": [
  {
   "cell_type": "code",
   "execution_count": null,
   "metadata": {},
   "outputs": [],
   "source": [
    "! pip install  numpy"
   ]
  },
  {
   "cell_type": "code",
   "execution_count": 17,
   "metadata": {},
   "outputs": [],
   "source": [
    "import numpy as np\n",
    "import pandas as pd \n",
    "import matplotlib.pyplot as plt\n",
    "import plotly.express as px"
   ]
  },
  {
   "cell_type": "markdown",
   "metadata": {
    "hide_input": false
   },
   "source": [
    "# Day 3"
   ]
  },
  {
   "cell_type": "markdown",
   "metadata": {},
   "source": [
    "We work on the Netflix dataset."
   ]
  },
  {
   "cell_type": "code",
   "execution_count": 6,
   "metadata": {},
   "outputs": [],
   "source": [
    "df = pd.read_csv(\"imdb.csv\")"
   ]
  },
  {
   "cell_type": "code",
   "execution_count": 7,
   "metadata": {},
   "outputs": [
    {
     "data": {
      "text/html": [
       "<div>\n",
       "<style scoped>\n",
       "    .dataframe tbody tr th:only-of-type {\n",
       "        vertical-align: middle;\n",
       "    }\n",
       "\n",
       "    .dataframe tbody tr th {\n",
       "        vertical-align: top;\n",
       "    }\n",
       "\n",
       "    .dataframe thead th {\n",
       "        text-align: right;\n",
       "    }\n",
       "</style>\n",
       "<table border=\"1\" class=\"dataframe\">\n",
       "  <thead>\n",
       "    <tr style=\"text-align: right;\">\n",
       "      <th></th>\n",
       "      <th>Unnamed: 0</th>\n",
       "      <th>title</th>\n",
       "      <th>year</th>\n",
       "      <th>kind</th>\n",
       "      <th>genre</th>\n",
       "      <th>rating</th>\n",
       "      <th>vote</th>\n",
       "      <th>country</th>\n",
       "      <th>language</th>\n",
       "      <th>runtime</th>\n",
       "      <th>cast</th>\n",
       "      <th>director</th>\n",
       "      <th>composer</th>\n",
       "      <th>writer</th>\n",
       "      <th>runtimes</th>\n",
       "    </tr>\n",
       "  </thead>\n",
       "  <tbody>\n",
       "    <tr>\n",
       "      <th>0</th>\n",
       "      <td>0</td>\n",
       "      <td>Dinosaur Planet</td>\n",
       "      <td>2003.0</td>\n",
       "      <td>tv mini series</td>\n",
       "      <td>['Documentary', 'Animation', 'Family']</td>\n",
       "      <td>7.7</td>\n",
       "      <td>474.0</td>\n",
       "      <td>['United States']</td>\n",
       "      <td>['English']</td>\n",
       "      <td>['50']</td>\n",
       "      <td>['Christian Slater', 'Scott Sampson']</td>\n",
       "      <td>NaN</td>\n",
       "      <td>NaN</td>\n",
       "      <td>['Mike Carrol', 'Mike Carroll', 'Georgann Kane']</td>\n",
       "      <td>NaN</td>\n",
       "    </tr>\n",
       "    <tr>\n",
       "      <th>1</th>\n",
       "      <td>1</td>\n",
       "      <td>Character</td>\n",
       "      <td>2021.0</td>\n",
       "      <td>movie</td>\n",
       "      <td>['Crime', 'Horror', 'Thriller']</td>\n",
       "      <td>8.3</td>\n",
       "      <td>46.0</td>\n",
       "      <td>['Japan']</td>\n",
       "      <td>['Japanese']</td>\n",
       "      <td>['125']</td>\n",
       "      <td>['Masaki Suda', 'Fukase', 'Mitsuki Takahata', ...</td>\n",
       "      <td>['Akira Nagai']</td>\n",
       "      <td>['Youki Kojima']</td>\n",
       "      <td>['Takashi Nagasaki', 'Takashi Nagasaki', 'Anna...</td>\n",
       "      <td>NaN</td>\n",
       "    </tr>\n",
       "    <tr>\n",
       "      <th>2</th>\n",
       "      <td>2</td>\n",
       "      <td>Get Up and Dance!</td>\n",
       "      <td>1994.0</td>\n",
       "      <td>video movie</td>\n",
       "      <td>['Family']</td>\n",
       "      <td>8.1</td>\n",
       "      <td>18.0</td>\n",
       "      <td>['United States']</td>\n",
       "      <td>['English']</td>\n",
       "      <td>['54']</td>\n",
       "      <td>['Paula Abdul', 'Aurorah Allain', 'Bill Bohl',...</td>\n",
       "      <td>['Steve Purcell']</td>\n",
       "      <td>NaN</td>\n",
       "      <td>NaN</td>\n",
       "      <td>NaN</td>\n",
       "    </tr>\n",
       "    <tr>\n",
       "      <th>3</th>\n",
       "      <td>3</td>\n",
       "      <td>The Rise and Fall of El Chapo</td>\n",
       "      <td>2016.0</td>\n",
       "      <td>tv movie</td>\n",
       "      <td>['Documentary']</td>\n",
       "      <td>6.9</td>\n",
       "      <td>42.0</td>\n",
       "      <td>['United States']</td>\n",
       "      <td>NaN</td>\n",
       "      <td>['85']</td>\n",
       "      <td>NaN</td>\n",
       "      <td>NaN</td>\n",
       "      <td>NaN</td>\n",
       "      <td>NaN</td>\n",
       "      <td>NaN</td>\n",
       "    </tr>\n",
       "    <tr>\n",
       "      <th>4</th>\n",
       "      <td>4</td>\n",
       "      <td>Sick - IMDb</td>\n",
       "      <td>NaN</td>\n",
       "      <td>NaN</td>\n",
       "      <td>['Thriller']</td>\n",
       "      <td>NaN</td>\n",
       "      <td>NaN</td>\n",
       "      <td>['United States']</td>\n",
       "      <td>NaN</td>\n",
       "      <td>NaN</td>\n",
       "      <td>['Marc Menchaca', 'Gideon Adlon', 'Dylan Spray...</td>\n",
       "      <td>['John Hyams']</td>\n",
       "      <td>NaN</td>\n",
       "      <td>['Katelyn Crabb', 'Kevin Williamson']</td>\n",
       "      <td>NaN</td>\n",
       "    </tr>\n",
       "    <tr>\n",
       "      <th>...</th>\n",
       "      <td>...</td>\n",
       "      <td>...</td>\n",
       "      <td>...</td>\n",
       "      <td>...</td>\n",
       "      <td>...</td>\n",
       "      <td>...</td>\n",
       "      <td>...</td>\n",
       "      <td>...</td>\n",
       "      <td>...</td>\n",
       "      <td>...</td>\n",
       "      <td>...</td>\n",
       "      <td>...</td>\n",
       "      <td>...</td>\n",
       "      <td>...</td>\n",
       "      <td>...</td>\n",
       "    </tr>\n",
       "    <tr>\n",
       "      <th>9821</th>\n",
       "      <td>9821</td>\n",
       "      <td>All Monsters Attack</td>\n",
       "      <td>1969.0</td>\n",
       "      <td>movie</td>\n",
       "      <td>['Adventure', 'Family', 'Fantasy']</td>\n",
       "      <td>3.9</td>\n",
       "      <td>4384.0</td>\n",
       "      <td>['Japan']</td>\n",
       "      <td>['Japanese']</td>\n",
       "      <td>NaN</td>\n",
       "      <td>['Tomonori Yazaki', 'Hideyo Amamoto', 'Sachio ...</td>\n",
       "      <td>['Ishirô Honda', 'Jun Fukuda', 'Kengo Furusawa']</td>\n",
       "      <td>['Kunio Miyauchi']</td>\n",
       "      <td>[\"Shin'ichi Sekizawa\"]</td>\n",
       "      <td>['69']</td>\n",
       "    </tr>\n",
       "    <tr>\n",
       "      <th>9822</th>\n",
       "      <td>9822</td>\n",
       "      <td>Fidel Castro</td>\n",
       "      <td>2005.0</td>\n",
       "      <td>episode</td>\n",
       "      <td>['Documentary', 'Biography', 'History']</td>\n",
       "      <td>6.4</td>\n",
       "      <td>44.0</td>\n",
       "      <td>NaN</td>\n",
       "      <td>['English', 'Spanish']</td>\n",
       "      <td>NaN</td>\n",
       "      <td>['Rena Baskin', 'Fulgencio Batista', 'James Bl...</td>\n",
       "      <td>['Adriana Bosch', 'M Pink Christofalo']</td>\n",
       "      <td>['Mason Daring']</td>\n",
       "      <td>['Adriana Bosch']</td>\n",
       "      <td>NaN</td>\n",
       "    </tr>\n",
       "    <tr>\n",
       "      <th>9823</th>\n",
       "      <td>9823</td>\n",
       "      <td>Epoch</td>\n",
       "      <td>2001.0</td>\n",
       "      <td>tv movie</td>\n",
       "      <td>['Sci-Fi', 'Thriller']</td>\n",
       "      <td>4.9</td>\n",
       "      <td>2376.0</td>\n",
       "      <td>['United States']</td>\n",
       "      <td>['English']</td>\n",
       "      <td>NaN</td>\n",
       "      <td>['David Keith', 'Stephanie Niznik', \"Ryan O'Ne...</td>\n",
       "      <td>['Matt Codd']</td>\n",
       "      <td>['Richard McHugh']</td>\n",
       "      <td>['Jonathan Raymond', 'Jonathan Raymond', 'Phil...</td>\n",
       "      <td>['96']</td>\n",
       "    </tr>\n",
       "    <tr>\n",
       "      <th>9824</th>\n",
       "      <td>9824</td>\n",
       "      <td>The Company</td>\n",
       "      <td>2003.0</td>\n",
       "      <td>movie</td>\n",
       "      <td>['Drama', 'Music', 'Romance']</td>\n",
       "      <td>6.3</td>\n",
       "      <td>6501.0</td>\n",
       "      <td>['United States', 'Germany', 'United Kingdom']</td>\n",
       "      <td>['English']</td>\n",
       "      <td>NaN</td>\n",
       "      <td>['Neve Campbell', 'Malcolm McDowell', 'James F...</td>\n",
       "      <td>['Robert Altman']</td>\n",
       "      <td>['Van Dyke Parks']</td>\n",
       "      <td>['Neve Campbell', 'Barbara Turner', 'Barbara T...</td>\n",
       "      <td>['112']</td>\n",
       "    </tr>\n",
       "    <tr>\n",
       "      <th>9825</th>\n",
       "      <td>9825</td>\n",
       "      <td>Predator</td>\n",
       "      <td>1987.0</td>\n",
       "      <td>movie</td>\n",
       "      <td>['Action', 'Adventure', 'Sci-Fi', 'Thriller']</td>\n",
       "      <td>7.8</td>\n",
       "      <td>386850.0</td>\n",
       "      <td>['United States', 'Mexico']</td>\n",
       "      <td>['English', 'Spanish', 'Russian']</td>\n",
       "      <td>NaN</td>\n",
       "      <td>['Arnold Schwarzenegger', 'Carl Weathers', 'El...</td>\n",
       "      <td>['John McTiernan']</td>\n",
       "      <td>['Alan Silvestri']</td>\n",
       "      <td>['Jim Thomas', 'John Thomas']</td>\n",
       "      <td>['107']</td>\n",
       "    </tr>\n",
       "  </tbody>\n",
       "</table>\n",
       "<p>9826 rows × 15 columns</p>\n",
       "</div>"
      ],
      "text/plain": [
       "      Unnamed: 0                          title    year            kind  \\\n",
       "0              0                Dinosaur Planet  2003.0  tv mini series   \n",
       "1              1                      Character  2021.0           movie   \n",
       "2              2              Get Up and Dance!  1994.0     video movie   \n",
       "3              3  The Rise and Fall of El Chapo  2016.0        tv movie   \n",
       "4              4                    Sick - IMDb     NaN             NaN   \n",
       "...          ...                            ...     ...             ...   \n",
       "9821        9821            All Monsters Attack  1969.0           movie   \n",
       "9822        9822                   Fidel Castro  2005.0         episode   \n",
       "9823        9823                          Epoch  2001.0        tv movie   \n",
       "9824        9824                    The Company  2003.0           movie   \n",
       "9825        9825                       Predator  1987.0           movie   \n",
       "\n",
       "                                              genre  rating      vote  \\\n",
       "0            ['Documentary', 'Animation', 'Family']     7.7     474.0   \n",
       "1                   ['Crime', 'Horror', 'Thriller']     8.3      46.0   \n",
       "2                                        ['Family']     8.1      18.0   \n",
       "3                                   ['Documentary']     6.9      42.0   \n",
       "4                                      ['Thriller']     NaN       NaN   \n",
       "...                                             ...     ...       ...   \n",
       "9821             ['Adventure', 'Family', 'Fantasy']     3.9    4384.0   \n",
       "9822        ['Documentary', 'Biography', 'History']     6.4      44.0   \n",
       "9823                         ['Sci-Fi', 'Thriller']     4.9    2376.0   \n",
       "9824                  ['Drama', 'Music', 'Romance']     6.3    6501.0   \n",
       "9825  ['Action', 'Adventure', 'Sci-Fi', 'Thriller']     7.8  386850.0   \n",
       "\n",
       "                                             country  \\\n",
       "0                                  ['United States']   \n",
       "1                                          ['Japan']   \n",
       "2                                  ['United States']   \n",
       "3                                  ['United States']   \n",
       "4                                  ['United States']   \n",
       "...                                              ...   \n",
       "9821                                       ['Japan']   \n",
       "9822                                             NaN   \n",
       "9823                               ['United States']   \n",
       "9824  ['United States', 'Germany', 'United Kingdom']   \n",
       "9825                     ['United States', 'Mexico']   \n",
       "\n",
       "                               language  runtime  \\\n",
       "0                           ['English']   ['50']   \n",
       "1                          ['Japanese']  ['125']   \n",
       "2                           ['English']   ['54']   \n",
       "3                                   NaN   ['85']   \n",
       "4                                   NaN      NaN   \n",
       "...                                 ...      ...   \n",
       "9821                       ['Japanese']      NaN   \n",
       "9822             ['English', 'Spanish']      NaN   \n",
       "9823                        ['English']      NaN   \n",
       "9824                        ['English']      NaN   \n",
       "9825  ['English', 'Spanish', 'Russian']      NaN   \n",
       "\n",
       "                                                   cast  \\\n",
       "0                 ['Christian Slater', 'Scott Sampson']   \n",
       "1     ['Masaki Suda', 'Fukase', 'Mitsuki Takahata', ...   \n",
       "2     ['Paula Abdul', 'Aurorah Allain', 'Bill Bohl',...   \n",
       "3                                                   NaN   \n",
       "4     ['Marc Menchaca', 'Gideon Adlon', 'Dylan Spray...   \n",
       "...                                                 ...   \n",
       "9821  ['Tomonori Yazaki', 'Hideyo Amamoto', 'Sachio ...   \n",
       "9822  ['Rena Baskin', 'Fulgencio Batista', 'James Bl...   \n",
       "9823  ['David Keith', 'Stephanie Niznik', \"Ryan O'Ne...   \n",
       "9824  ['Neve Campbell', 'Malcolm McDowell', 'James F...   \n",
       "9825  ['Arnold Schwarzenegger', 'Carl Weathers', 'El...   \n",
       "\n",
       "                                              director            composer  \\\n",
       "0                                                  NaN                 NaN   \n",
       "1                                      ['Akira Nagai']    ['Youki Kojima']   \n",
       "2                                    ['Steve Purcell']                 NaN   \n",
       "3                                                  NaN                 NaN   \n",
       "4                                       ['John Hyams']                 NaN   \n",
       "...                                                ...                 ...   \n",
       "9821  ['Ishirô Honda', 'Jun Fukuda', 'Kengo Furusawa']  ['Kunio Miyauchi']   \n",
       "9822           ['Adriana Bosch', 'M Pink Christofalo']    ['Mason Daring']   \n",
       "9823                                     ['Matt Codd']  ['Richard McHugh']   \n",
       "9824                                 ['Robert Altman']  ['Van Dyke Parks']   \n",
       "9825                                ['John McTiernan']  ['Alan Silvestri']   \n",
       "\n",
       "                                                 writer runtimes  \n",
       "0      ['Mike Carrol', 'Mike Carroll', 'Georgann Kane']      NaN  \n",
       "1     ['Takashi Nagasaki', 'Takashi Nagasaki', 'Anna...      NaN  \n",
       "2                                                   NaN      NaN  \n",
       "3                                                   NaN      NaN  \n",
       "4                 ['Katelyn Crabb', 'Kevin Williamson']      NaN  \n",
       "...                                                 ...      ...  \n",
       "9821                             [\"Shin'ichi Sekizawa\"]   ['69']  \n",
       "9822                                  ['Adriana Bosch']      NaN  \n",
       "9823  ['Jonathan Raymond', 'Jonathan Raymond', 'Phil...   ['96']  \n",
       "9824  ['Neve Campbell', 'Barbara Turner', 'Barbara T...  ['112']  \n",
       "9825                      ['Jim Thomas', 'John Thomas']  ['107']  \n",
       "\n",
       "[9826 rows x 15 columns]"
      ]
     },
     "execution_count": 7,
     "metadata": {},
     "output_type": "execute_result"
    }
   ],
   "source": [
    "df"
   ]
  },
  {
   "cell_type": "code",
   "execution_count": 8,
   "metadata": {},
   "outputs": [
    {
     "data": {
      "text/plain": [
       "Unnamed: 0    9826\n",
       "title         9214\n",
       "year           109\n",
       "kind             8\n",
       "genre         1557\n",
       "rating          84\n",
       "vote          5036\n",
       "country        728\n",
       "language       768\n",
       "runtime        293\n",
       "cast          8850\n",
       "director      5018\n",
       "composer      3296\n",
       "writer        7051\n",
       "runtimes       221\n",
       "dtype: int64"
      ]
     },
     "execution_count": 8,
     "metadata": {},
     "output_type": "execute_result"
    }
   ],
   "source": [
    "df.nunique()"
   ]
  },
  {
   "cell_type": "code",
   "execution_count": 9,
   "metadata": {},
   "outputs": [
    {
     "data": {
      "text/plain": [
       "(9826, 15)"
      ]
     },
     "execution_count": 9,
     "metadata": {},
     "output_type": "execute_result"
    }
   ],
   "source": [
    "df.shape"
   ]
  },
  {
   "cell_type": "code",
   "execution_count": 13,
   "metadata": {},
   "outputs": [
    {
     "data": {
      "text/plain": [
       "Unnamed: 0       0\n",
       "title            1\n",
       "year            70\n",
       "kind            38\n",
       "genre           93\n",
       "rating         877\n",
       "vote           877\n",
       "country        665\n",
       "language       793\n",
       "runtime       3910\n",
       "cast           344\n",
       "director      1860\n",
       "composer      3622\n",
       "writer        1656\n",
       "runtimes      6972\n",
       "dtype: int64"
      ]
     },
     "execution_count": 13,
     "metadata": {},
     "output_type": "execute_result"
    }
   ],
   "source": [
    "df.isnull().sum()"
   ]
  },
  {
   "cell_type": "code",
   "execution_count": 14,
   "metadata": {},
   "outputs": [],
   "source": [
    "df.dropna(subset = [\"kind\", \"country\", \"rating\"], inplace = True)"
   ]
  },
  {
   "cell_type": "code",
   "execution_count": 15,
   "metadata": {},
   "outputs": [
    {
     "data": {
      "text/plain": [
       "Unnamed: 0       0\n",
       "title            0\n",
       "year             0\n",
       "kind             0\n",
       "genre           48\n",
       "rating           0\n",
       "vote             0\n",
       "country          0\n",
       "language       139\n",
       "runtime       3137\n",
       "cast            80\n",
       "director      1267\n",
       "composer      2670\n",
       "writer        1103\n",
       "runtimes      5922\n",
       "dtype: int64"
      ]
     },
     "execution_count": 15,
     "metadata": {},
     "output_type": "execute_result"
    }
   ],
   "source": [
    "df.isnull().sum()"
   ]
  },
  {
   "cell_type": "code",
   "execution_count": 16,
   "metadata": {},
   "outputs": [
    {
     "data": {
      "text/plain": [
       "movie             5388\n",
       "video movie       1227\n",
       "tv movie           767\n",
       "tv series          715\n",
       "episode            300\n",
       "tv mini series     263\n",
       "video game          18\n",
       "tv short            13\n",
       "Name: kind, dtype: int64"
      ]
     },
     "execution_count": 16,
     "metadata": {},
     "output_type": "execute_result"
    }
   ],
   "source": [
    "df[\"kind\"].value_counts()"
   ]
  },
  {
   "cell_type": "code",
   "execution_count": 23,
   "metadata": {},
   "outputs": [
    {
     "data": {
      "text/plain": [
       "<matplotlib.axes._subplots.AxesSubplot at 0x7fe90d490e10>"
      ]
     },
     "execution_count": 23,
     "metadata": {},
     "output_type": "execute_result"
    },
    {
     "data": {
      "image/png": "[encoded data removed]",
      "text/plain": [
       "<Figure size 432x288 with 1 Axes>"
      ]
     },
     "metadata": {},
     "output_type": "display_data"
    }
   ],
   "source": [
    "# Creating plot\n",
    "df[\"kind\"].value_counts().plot(kind='pie')"
   ]
  },
  {
   "cell_type": "code",
   "execution_count": 24,
   "metadata": {},
   "outputs": [
    {
     "data": {
      "text/plain": [
       "<matplotlib.axes._subplots.AxesSubplot at 0x7fe90d4316d0>"
      ]
     },
     "execution_count": 24,
     "metadata": {},
     "output_type": "execute_result"
    },
    {
     "data": {
      "image/png": "[encoded data removed]",
      "text/plain": [
       "<Figure size 432x288 with 1 Axes>"
      ]
     },
     "metadata": {
      "needs_background": "light"
     },
     "output_type": "display_data"
    }
   ],
   "source": [
    "df[\"rating\"].plot.hist()"
   ]
  },
  {
   "cell_type": "code",
   "execution_count": 25,
   "metadata": {},
   "outputs": [
    {
     "data": {
      "text/html": [
       "<div>\n",
       "<style scoped>\n",
       "    .dataframe tbody tr th:only-of-type {\n",
       "        vertical-align: middle;\n",
       "    }\n",
       "\n",
       "    .dataframe tbody tr th {\n",
       "        vertical-align: top;\n",
       "    }\n",
       "\n",
       "    .dataframe thead th {\n",
       "        text-align: right;\n",
       "    }\n",
       "</style>\n",
       "<table border=\"1\" class=\"dataframe\">\n",
       "  <thead>\n",
       "    <tr style=\"text-align: right;\">\n",
       "      <th></th>\n",
       "      <th>Mean</th>\n",
       "      <th>Max</th>\n",
       "    </tr>\n",
       "    <tr>\n",
       "      <th>kind</th>\n",
       "      <th></th>\n",
       "      <th></th>\n",
       "    </tr>\n",
       "  </thead>\n",
       "  <tbody>\n",
       "    <tr>\n",
       "      <th>episode</th>\n",
       "      <td>7.517667</td>\n",
       "      <td>9.1</td>\n",
       "    </tr>\n",
       "    <tr>\n",
       "      <th>movie</th>\n",
       "      <td>6.531626</td>\n",
       "      <td>9.3</td>\n",
       "    </tr>\n",
       "    <tr>\n",
       "      <th>tv mini series</th>\n",
       "      <td>7.438783</td>\n",
       "      <td>9.4</td>\n",
       "    </tr>\n",
       "    <tr>\n",
       "      <th>tv movie</th>\n",
       "      <td>6.432725</td>\n",
       "      <td>9.1</td>\n",
       "    </tr>\n",
       "    <tr>\n",
       "      <th>tv series</th>\n",
       "      <td>7.380140</td>\n",
       "      <td>9.2</td>\n",
       "    </tr>\n",
       "    <tr>\n",
       "      <th>tv short</th>\n",
       "      <td>7.969231</td>\n",
       "      <td>9.2</td>\n",
       "    </tr>\n",
       "    <tr>\n",
       "      <th>video game</th>\n",
       "      <td>7.155556</td>\n",
       "      <td>8.5</td>\n",
       "    </tr>\n",
       "    <tr>\n",
       "      <th>video movie</th>\n",
       "      <td>6.560962</td>\n",
       "      <td>9.3</td>\n",
       "    </tr>\n",
       "  </tbody>\n",
       "</table>\n",
       "</div>"
      ],
      "text/plain": [
       "                    Mean  Max\n",
       "kind                         \n",
       "episode         7.517667  9.1\n",
       "movie           6.531626  9.3\n",
       "tv mini series  7.438783  9.4\n",
       "tv movie        6.432725  9.1\n",
       "tv series       7.380140  9.2\n",
       "tv short        7.969231  9.2\n",
       "video game      7.155556  8.5\n",
       "video movie     6.560962  9.3"
      ]
     },
     "execution_count": 25,
     "metadata": {},
     "output_type": "execute_result"
    }
   ],
   "source": [
    "df.groupby(\"kind\").agg(Mean=(\"rating\", \"mean\"), Max=(\"rating\", \"max\"))"
   ]
  },
  {
   "cell_type": "code",
   "execution_count": 29,
   "metadata": {},
   "outputs": [
    {
     "data": {
      "text/plain": [
       "<matplotlib.axes._subplots.AxesSubplot at 0x7fe912a1b4d0>"
      ]
     },
     "execution_count": 29,
     "metadata": {},
     "output_type": "execute_result"
    },
    {
     "data": {
      "image/png": "[encoded data removed]",
      "text/plain": [
       "<Figure size 432x288 with 1 Axes>"
      ]
     },
     "metadata": {
      "needs_background": "light"
     },
     "output_type": "display_data"
    }
   ],
   "source": [
    "df[\"kind\"].value_counts().plot.barh()"
   ]
  },
  {
   "cell_type": "code",
   "execution_count": 32,
   "metadata": {},
   "outputs": [
    {
     "data": {
      "text/plain": [
       "<matplotlib.axes._subplots.AxesSubplot at 0x7fe912acba10>"
      ]
     },
     "execution_count": 32,
     "metadata": {},
     "output_type": "execute_result"
    },
    {
     "data": {
      "image/png": "[encoded data removed]",
      "text/plain": [
       "<Figure size 432x288 with 1 Axes>"
      ]
     },
     "metadata": {
      "needs_background": "light"
     },
     "output_type": "display_data"
    }
   ],
   "source": [
    "df_movie=df.where(df[\"kind\"]==\"movie\")\n",
    "df_movie[\"kind\"].value_counts().plot.barh()"
   ]
  },
  {
   "cell_type": "code",
   "execution_count": 36,
   "metadata": {},
   "outputs": [
    {
     "data": {
      "text/plain": [
       "<matplotlib.axes._subplots.AxesSubplot at 0x7fe91306ea90>"
      ]
     },
     "execution_count": 36,
     "metadata": {},
     "output_type": "execute_result"
    },
    {
     "data": {
      "image/png": "[encoded data removed]",
      "text/plain": [
       "<Figure size 432x288 with 1 Axes>"
      ]
     },
     "metadata": {
      "needs_background": "light"
     },
     "output_type": "display_data"
    }
   ],
   "source": [
    "df.plot.scatter(x='year',y='rating')"
   ]
  },
  {
   "cell_type": "code",
   "execution_count": null,
   "metadata": {},
   "outputs": [],
   "source": []
  }
 ],
 "metadata": {
  "hide_input": false,
  "kernelspec": {
   "display_name": "Python 3",
   "language": "python",
   "name": "python3"
  },
  "language_info": {
   "codemirror_mode": {
    "name": "ipython",
    "version": 3
   },
   "file_extension": ".py",
   "mimetype": "text/x-python",
   "name": "python",
   "nbconvert_exporter": "python",
   "pygments_lexer": "ipython3",
   "version": "3.7.6"
  }
 },
 "nbformat": 4,
 "nbformat_minor": 4
}
